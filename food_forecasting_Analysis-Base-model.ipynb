{
 "cells": [
  {
   "cell_type": "markdown",
   "metadata": {},
   "source": [
    "##EDA and Feature Engineering \n"
   ]
  },
  {
   "cell_type": "code",
   "execution_count": 1,
   "metadata": {},
   "outputs": [],
   "source": [
    "import pandas as pd\n",
    "import numpy as np\n",
    "import matplotlib.pyplot as plt\n",
    "%matplotlib inline\n",
    "import seaborn as sns"
   ]
  },
  {
   "cell_type": "code",
   "execution_count": 2,
   "metadata": {},
   "outputs": [],
   "source": [
    "import gc\n",
    "\n",
    "from sklearn.metrics import mean_squared_log_error, mean_squared_error\n",
    "from sklearn.model_selection import train_test_split, KFold"
   ]
  },
  {
   "cell_type": "code",
   "execution_count": 3,
   "metadata": {},
   "outputs": [],
   "source": [
    "#pd.set_option('display.max_rows', None)\n",
    "def show_all(df, nrow, ncol):\n",
    "    with pd.option_context('display.max_rows', nrow, 'display.max_columns', ncol):\n",
    "        display(df)"
   ]
  },
  {
   "cell_type": "code",
   "execution_count": 34,
   "metadata": {},
   "outputs": [],
   "source": [
    "fci_df = pd.read_csv(r'C:\\Users\\nirav.gandhi\\Desktop\\data science\\food forecasting\\train_GzS76OK\\fulfilment_center_info.csv')\n",
    "mi_df = pd.read_csv(r'C:\\Users\\nirav.gandhi\\Desktop\\data science\\food forecasting\\train_GzS76OK\\meal_info.csv')\n",
    "train_df = pd.read_csv(r'C:\\Users\\nirav.gandhi\\Desktop\\data science\\food forecasting\\train_GzS76OK\\train.csv')\n",
    "test_df = pd.read_csv(r'C:\\Users\\nirav.gandhi\\Desktop\\data science\\food forecasting\\train_GzS76OK\\test.csv')\n"
   ]
  },
  {
   "cell_type": "code",
   "execution_count": 6,
   "metadata": {},
   "outputs": [
    {
     "data": {
      "text/html": [
       "<div>\n",
       "<style scoped>\n",
       "    .dataframe tbody tr th:only-of-type {\n",
       "        vertical-align: middle;\n",
       "    }\n",
       "\n",
       "    .dataframe tbody tr th {\n",
       "        vertical-align: top;\n",
       "    }\n",
       "\n",
       "    .dataframe thead th {\n",
       "        text-align: right;\n",
       "    }\n",
       "</style>\n",
       "<table border=\"1\" class=\"dataframe\">\n",
       "  <thead>\n",
       "    <tr style=\"text-align: right;\">\n",
       "      <th></th>\n",
       "      <th>center_id</th>\n",
       "      <th>city_code</th>\n",
       "      <th>region_code</th>\n",
       "      <th>center_type</th>\n",
       "      <th>op_area</th>\n",
       "    </tr>\n",
       "  </thead>\n",
       "  <tbody>\n",
       "    <tr>\n",
       "      <th>0</th>\n",
       "      <td>11</td>\n",
       "      <td>679</td>\n",
       "      <td>56</td>\n",
       "      <td>TYPE_A</td>\n",
       "      <td>3.7</td>\n",
       "    </tr>\n",
       "    <tr>\n",
       "      <th>1</th>\n",
       "      <td>13</td>\n",
       "      <td>590</td>\n",
       "      <td>56</td>\n",
       "      <td>TYPE_B</td>\n",
       "      <td>6.7</td>\n",
       "    </tr>\n",
       "    <tr>\n",
       "      <th>2</th>\n",
       "      <td>124</td>\n",
       "      <td>590</td>\n",
       "      <td>56</td>\n",
       "      <td>TYPE_C</td>\n",
       "      <td>4.0</td>\n",
       "    </tr>\n",
       "    <tr>\n",
       "      <th>3</th>\n",
       "      <td>66</td>\n",
       "      <td>648</td>\n",
       "      <td>34</td>\n",
       "      <td>TYPE_A</td>\n",
       "      <td>4.1</td>\n",
       "    </tr>\n",
       "    <tr>\n",
       "      <th>4</th>\n",
       "      <td>94</td>\n",
       "      <td>632</td>\n",
       "      <td>34</td>\n",
       "      <td>TYPE_C</td>\n",
       "      <td>3.6</td>\n",
       "    </tr>\n",
       "  </tbody>\n",
       "</table>\n",
       "</div>"
      ],
      "text/plain": [
       "   center_id  city_code  region_code center_type  op_area\n",
       "0         11        679           56      TYPE_A      3.7\n",
       "1         13        590           56      TYPE_B      6.7\n",
       "2        124        590           56      TYPE_C      4.0\n",
       "3         66        648           34      TYPE_A      4.1\n",
       "4         94        632           34      TYPE_C      3.6"
      ]
     },
     "execution_count": 6,
     "metadata": {},
     "output_type": "execute_result"
    }
   ],
   "source": [
    "# head of fulfilment_center_info file\n",
    "fci_df.head()"
   ]
  },
  {
   "cell_type": "code",
   "execution_count": 7,
   "metadata": {},
   "outputs": [
    {
     "name": "stdout",
     "output_type": "stream",
     "text": [
      "Shape of fulfilment_center_info : (77, 5)\n"
     ]
    }
   ],
   "source": [
    "print(\"Shape of fulfilment_center_info :\", fci_df.shape)"
   ]
  },
  {
   "cell_type": "code",
   "execution_count": 8,
   "metadata": {},
   "outputs": [
    {
     "data": {
      "text/plain": [
       "center_id      0\n",
       "city_code      0\n",
       "region_code    0\n",
       "center_type    0\n",
       "op_area        0\n",
       "dtype: int64"
      ]
     },
     "execution_count": 8,
     "metadata": {},
     "output_type": "execute_result"
    }
   ],
   "source": [
    "# NaN values in fulfilment_center_info\n",
    "fci_df.isnull().sum()"
   ]
  },
  {
   "cell_type": "code",
   "execution_count": 9,
   "metadata": {},
   "outputs": [
    {
     "data": {
      "text/html": [
       "<div>\n",
       "<style scoped>\n",
       "    .dataframe tbody tr th:only-of-type {\n",
       "        vertical-align: middle;\n",
       "    }\n",
       "\n",
       "    .dataframe tbody tr th {\n",
       "        vertical-align: top;\n",
       "    }\n",
       "\n",
       "    .dataframe thead th {\n",
       "        text-align: right;\n",
       "    }\n",
       "</style>\n",
       "<table border=\"1\" class=\"dataframe\">\n",
       "  <thead>\n",
       "    <tr style=\"text-align: right;\">\n",
       "      <th></th>\n",
       "      <th>meal_id</th>\n",
       "      <th>category</th>\n",
       "      <th>cuisine</th>\n",
       "    </tr>\n",
       "  </thead>\n",
       "  <tbody>\n",
       "    <tr>\n",
       "      <th>0</th>\n",
       "      <td>1885</td>\n",
       "      <td>Beverages</td>\n",
       "      <td>Thai</td>\n",
       "    </tr>\n",
       "    <tr>\n",
       "      <th>1</th>\n",
       "      <td>1993</td>\n",
       "      <td>Beverages</td>\n",
       "      <td>Thai</td>\n",
       "    </tr>\n",
       "    <tr>\n",
       "      <th>2</th>\n",
       "      <td>2539</td>\n",
       "      <td>Beverages</td>\n",
       "      <td>Thai</td>\n",
       "    </tr>\n",
       "    <tr>\n",
       "      <th>3</th>\n",
       "      <td>1248</td>\n",
       "      <td>Beverages</td>\n",
       "      <td>Indian</td>\n",
       "    </tr>\n",
       "    <tr>\n",
       "      <th>4</th>\n",
       "      <td>2631</td>\n",
       "      <td>Beverages</td>\n",
       "      <td>Indian</td>\n",
       "    </tr>\n",
       "  </tbody>\n",
       "</table>\n",
       "</div>"
      ],
      "text/plain": [
       "   meal_id   category cuisine\n",
       "0     1885  Beverages    Thai\n",
       "1     1993  Beverages    Thai\n",
       "2     2539  Beverages    Thai\n",
       "3     1248  Beverages  Indian\n",
       "4     2631  Beverages  Indian"
      ]
     },
     "execution_count": 9,
     "metadata": {},
     "output_type": "execute_result"
    }
   ],
   "source": [
    "# head of meal_info file\n",
    "mi_df.head()"
   ]
  },
  {
   "cell_type": "code",
   "execution_count": 10,
   "metadata": {},
   "outputs": [
    {
     "name": "stdout",
     "output_type": "stream",
     "text": [
      "Shape of meal_info:  (51, 3)\n"
     ]
    }
   ],
   "source": [
    "print(\"Shape of meal_info: \", mi_df.shape)"
   ]
  },
  {
   "cell_type": "code",
   "execution_count": 11,
   "metadata": {},
   "outputs": [
    {
     "data": {
      "text/plain": [
       "meal_id     0\n",
       "category    0\n",
       "cuisine     0\n",
       "dtype: int64"
      ]
     },
     "execution_count": 11,
     "metadata": {},
     "output_type": "execute_result"
    }
   ],
   "source": [
    "# NaN values in meal_info\n",
    "mi_df.isnull().sum()"
   ]
  },
  {
   "cell_type": "code",
   "execution_count": 12,
   "metadata": {},
   "outputs": [
    {
     "data": {
      "text/html": [
       "<div>\n",
       "<style scoped>\n",
       "    .dataframe tbody tr th:only-of-type {\n",
       "        vertical-align: middle;\n",
       "    }\n",
       "\n",
       "    .dataframe tbody tr th {\n",
       "        vertical-align: top;\n",
       "    }\n",
       "\n",
       "    .dataframe thead th {\n",
       "        text-align: right;\n",
       "    }\n",
       "</style>\n",
       "<table border=\"1\" class=\"dataframe\">\n",
       "  <thead>\n",
       "    <tr style=\"text-align: right;\">\n",
       "      <th></th>\n",
       "      <th>id</th>\n",
       "      <th>week</th>\n",
       "      <th>center_id</th>\n",
       "      <th>meal_id</th>\n",
       "      <th>checkout_price</th>\n",
       "      <th>base_price</th>\n",
       "      <th>emailer_for_promotion</th>\n",
       "      <th>homepage_featured</th>\n",
       "      <th>num_orders</th>\n",
       "    </tr>\n",
       "  </thead>\n",
       "  <tbody>\n",
       "    <tr>\n",
       "      <th>0</th>\n",
       "      <td>1379560</td>\n",
       "      <td>1</td>\n",
       "      <td>55</td>\n",
       "      <td>1885</td>\n",
       "      <td>136.83</td>\n",
       "      <td>152.29</td>\n",
       "      <td>0</td>\n",
       "      <td>0</td>\n",
       "      <td>177</td>\n",
       "    </tr>\n",
       "    <tr>\n",
       "      <th>1</th>\n",
       "      <td>1466964</td>\n",
       "      <td>1</td>\n",
       "      <td>55</td>\n",
       "      <td>1993</td>\n",
       "      <td>136.83</td>\n",
       "      <td>135.83</td>\n",
       "      <td>0</td>\n",
       "      <td>0</td>\n",
       "      <td>270</td>\n",
       "    </tr>\n",
       "    <tr>\n",
       "      <th>2</th>\n",
       "      <td>1346989</td>\n",
       "      <td>1</td>\n",
       "      <td>55</td>\n",
       "      <td>2539</td>\n",
       "      <td>134.86</td>\n",
       "      <td>135.86</td>\n",
       "      <td>0</td>\n",
       "      <td>0</td>\n",
       "      <td>189</td>\n",
       "    </tr>\n",
       "    <tr>\n",
       "      <th>3</th>\n",
       "      <td>1338232</td>\n",
       "      <td>1</td>\n",
       "      <td>55</td>\n",
       "      <td>2139</td>\n",
       "      <td>339.50</td>\n",
       "      <td>437.53</td>\n",
       "      <td>0</td>\n",
       "      <td>0</td>\n",
       "      <td>54</td>\n",
       "    </tr>\n",
       "    <tr>\n",
       "      <th>4</th>\n",
       "      <td>1448490</td>\n",
       "      <td>1</td>\n",
       "      <td>55</td>\n",
       "      <td>2631</td>\n",
       "      <td>243.50</td>\n",
       "      <td>242.50</td>\n",
       "      <td>0</td>\n",
       "      <td>0</td>\n",
       "      <td>40</td>\n",
       "    </tr>\n",
       "  </tbody>\n",
       "</table>\n",
       "</div>"
      ],
      "text/plain": [
       "        id  week  center_id  meal_id  checkout_price  base_price  \\\n",
       "0  1379560     1         55     1885          136.83      152.29   \n",
       "1  1466964     1         55     1993          136.83      135.83   \n",
       "2  1346989     1         55     2539          134.86      135.86   \n",
       "3  1338232     1         55     2139          339.50      437.53   \n",
       "4  1448490     1         55     2631          243.50      242.50   \n",
       "\n",
       "   emailer_for_promotion  homepage_featured  num_orders  \n",
       "0                      0                  0         177  \n",
       "1                      0                  0         270  \n",
       "2                      0                  0         189  \n",
       "3                      0                  0          54  \n",
       "4                      0                  0          40  "
      ]
     },
     "execution_count": 12,
     "metadata": {},
     "output_type": "execute_result"
    }
   ],
   "source": [
    "# Head of Train file (historical demand data)\n",
    "train_df.head()"
   ]
  },
  {
   "cell_type": "code",
   "execution_count": 13,
   "metadata": {},
   "outputs": [
    {
     "name": "stdout",
     "output_type": "stream",
     "text": [
      "Shape of train:  (456548, 9)\n"
     ]
    }
   ],
   "source": [
    "print(\"Shape of train: \", train_df.shape)"
   ]
  },
  {
   "cell_type": "code",
   "execution_count": 14,
   "metadata": {},
   "outputs": [
    {
     "data": {
      "text/plain": [
       "id                       0\n",
       "week                     0\n",
       "center_id                0\n",
       "meal_id                  0\n",
       "checkout_price           0\n",
       "base_price               0\n",
       "emailer_for_promotion    0\n",
       "homepage_featured        0\n",
       "num_orders               0\n",
       "dtype: int64"
      ]
     },
     "execution_count": 14,
     "metadata": {},
     "output_type": "execute_result"
    }
   ],
   "source": [
    "# NaN values in train data\n",
    "train_df.isnull().sum()"
   ]
  },
  {
   "cell_type": "code",
   "execution_count": 15,
   "metadata": {},
   "outputs": [
    {
     "data": {
      "text/html": [
       "<div>\n",
       "<style scoped>\n",
       "    .dataframe tbody tr th:only-of-type {\n",
       "        vertical-align: middle;\n",
       "    }\n",
       "\n",
       "    .dataframe tbody tr th {\n",
       "        vertical-align: top;\n",
       "    }\n",
       "\n",
       "    .dataframe thead th {\n",
       "        text-align: right;\n",
       "    }\n",
       "</style>\n",
       "<table border=\"1\" class=\"dataframe\">\n",
       "  <thead>\n",
       "    <tr style=\"text-align: right;\">\n",
       "      <th></th>\n",
       "      <th>id</th>\n",
       "      <th>week</th>\n",
       "      <th>center_id</th>\n",
       "      <th>meal_id</th>\n",
       "      <th>checkout_price</th>\n",
       "      <th>base_price</th>\n",
       "      <th>emailer_for_promotion</th>\n",
       "      <th>homepage_featured</th>\n",
       "    </tr>\n",
       "  </thead>\n",
       "  <tbody>\n",
       "    <tr>\n",
       "      <th>0</th>\n",
       "      <td>1028232</td>\n",
       "      <td>146</td>\n",
       "      <td>55</td>\n",
       "      <td>1885</td>\n",
       "      <td>158.11</td>\n",
       "      <td>159.11</td>\n",
       "      <td>0</td>\n",
       "      <td>0</td>\n",
       "    </tr>\n",
       "    <tr>\n",
       "      <th>1</th>\n",
       "      <td>1127204</td>\n",
       "      <td>146</td>\n",
       "      <td>55</td>\n",
       "      <td>1993</td>\n",
       "      <td>160.11</td>\n",
       "      <td>159.11</td>\n",
       "      <td>0</td>\n",
       "      <td>0</td>\n",
       "    </tr>\n",
       "    <tr>\n",
       "      <th>2</th>\n",
       "      <td>1212707</td>\n",
       "      <td>146</td>\n",
       "      <td>55</td>\n",
       "      <td>2539</td>\n",
       "      <td>157.14</td>\n",
       "      <td>159.14</td>\n",
       "      <td>0</td>\n",
       "      <td>0</td>\n",
       "    </tr>\n",
       "    <tr>\n",
       "      <th>3</th>\n",
       "      <td>1082698</td>\n",
       "      <td>146</td>\n",
       "      <td>55</td>\n",
       "      <td>2631</td>\n",
       "      <td>162.02</td>\n",
       "      <td>162.02</td>\n",
       "      <td>0</td>\n",
       "      <td>0</td>\n",
       "    </tr>\n",
       "    <tr>\n",
       "      <th>4</th>\n",
       "      <td>1400926</td>\n",
       "      <td>146</td>\n",
       "      <td>55</td>\n",
       "      <td>1248</td>\n",
       "      <td>163.93</td>\n",
       "      <td>163.93</td>\n",
       "      <td>0</td>\n",
       "      <td>0</td>\n",
       "    </tr>\n",
       "  </tbody>\n",
       "</table>\n",
       "</div>"
      ],
      "text/plain": [
       "        id  week  center_id  meal_id  checkout_price  base_price  \\\n",
       "0  1028232   146         55     1885          158.11      159.11   \n",
       "1  1127204   146         55     1993          160.11      159.11   \n",
       "2  1212707   146         55     2539          157.14      159.14   \n",
       "3  1082698   146         55     2631          162.02      162.02   \n",
       "4  1400926   146         55     1248          163.93      163.93   \n",
       "\n",
       "   emailer_for_promotion  homepage_featured  \n",
       "0                      0                  0  \n",
       "1                      0                  0  \n",
       "2                      0                  0  \n",
       "3                      0                  0  \n",
       "4                      0                  0  "
      ]
     },
     "execution_count": 15,
     "metadata": {},
     "output_type": "execute_result"
    }
   ],
   "source": [
    "# Head of Test data\n",
    "test_df.head()"
   ]
  },
  {
   "cell_type": "code",
   "execution_count": 16,
   "metadata": {},
   "outputs": [
    {
     "name": "stdout",
     "output_type": "stream",
     "text": [
      "Shape of Test:  (32573, 8)\n"
     ]
    }
   ],
   "source": [
    "print(\"Shape of Test: \", test_df.shape)"
   ]
  },
  {
   "cell_type": "code",
   "execution_count": 17,
   "metadata": {},
   "outputs": [
    {
     "data": {
      "text/plain": [
       "id                       0\n",
       "week                     0\n",
       "center_id                0\n",
       "meal_id                  0\n",
       "checkout_price           0\n",
       "base_price               0\n",
       "emailer_for_promotion    0\n",
       "homepage_featured        0\n",
       "dtype: int64"
      ]
     },
     "execution_count": 17,
     "metadata": {},
     "output_type": "execute_result"
    }
   ],
   "source": [
    "# NaN values in test data\n",
    "test_df.isnull().sum()"
   ]
  },
  {
   "cell_type": "markdown",
   "metadata": {},
   "source": [
    "## EDA"
   ]
  },
  {
   "cell_type": "markdown",
   "metadata": {},
   "source": [
    "### `fulfilment_center_info`"
   ]
  },
  {
   "cell_type": "code",
   "execution_count": 18,
   "metadata": {},
   "outputs": [
    {
     "name": "stdout",
     "output_type": "stream",
     "text": [
      "Total number of centers :  77\n"
     ]
    }
   ],
   "source": [
    "print(\"Total number of centers : \", fci_df['center_id'].nunique())"
   ]
  },
  {
   "cell_type": "code",
   "execution_count": 21,
   "metadata": {},
   "outputs": [
    {
     "name": "stdout",
     "output_type": "stream",
     "text": [
      "Types of centers : \n",
      "\n",
      "['TYPE_A' 'TYPE_B' 'TYPE_C']\n"
     ]
    }
   ],
   "source": [
    "print(\"Types of centers : \\n\")\n",
    "print(fci_df['center_type'].unique())"
   ]
  },
  {
   "cell_type": "code",
   "execution_count": 22,
   "metadata": {},
   "outputs": [
    {
     "name": "stdout",
     "output_type": "stream",
     "text": [
      "Types of centers : \n",
      "\n",
      "TYPE_A    43\n",
      "TYPE_C    19\n",
      "TYPE_B    15\n",
      "Name: center_type, dtype: int64\n"
     ]
    }
   ],
   "source": [
    "print(\"Count of each center type : \\n\")\n",
    "print(fci_df['center_type'].value_counts())"
   ]
  },
  {
   "cell_type": "code",
   "execution_count": 23,
   "metadata": {},
   "outputs": [
    {
     "data": {
      "image/png": "[encoded data removed]",
      "text/plain": [
       "<Figure size 432x288 with 1 Axes>"
      ]
     },
     "metadata": {},
     "output_type": "display_data"
    }
   ],
   "source": [
    "ax = sns.countplot(fci_df['center_type'])\n",
    "ax.set(ylabel='Number of centers')\n",
    "plt.show()"
   ]
  },
  {
   "cell_type": "code",
   "execution_count": 24,
   "metadata": {},
   "outputs": [
    {
     "name": "stdout",
     "output_type": "stream",
     "text": [
      "Total Number of cities:  51\n"
     ]
    }
   ],
   "source": [
    "print(\"Total Number of cities: \", fci_df['city_code'].nunique())"
   ]
  },
  {
   "cell_type": "markdown",
   "metadata": {},
   "source": [
    "We have 77 stores in 51 cities, so some city have more than 1 center."
   ]
  },
  {
   "cell_type": "code",
   "execution_count": 25,
   "metadata": {},
   "outputs": [
    {
     "name": "stdout",
     "output_type": "stream",
     "text": [
      "Total number of regions:  8\n"
     ]
    }
   ],
   "source": [
    "print(\"Total number of regions: \", fci_df['region_code'].nunique())"
   ]
  },
  {
   "cell_type": "code",
   "execution_count": 29,
   "metadata": {},
   "outputs": [
    {
     "data": {
      "image/png": "[encoded data removed]",
      "text/plain": [
       "<Figure size 432x288 with 1 Axes>"
      ]
     },
     "execution_count": 29,
     "metadata": {},
     "output_type": "execute_result"
    },
    {
     "data": {
      "image/png": "[encoded data removed]",
      "text/plain": [
       "<Figure size 432x288 with 1 Axes>"
      ]
     },
     "metadata": {},
     "output_type": "display_data"
    }
   ],
   "source": [
    "##df_fulfilment_center_info['op_area'].value_counts()\n",
    "from matplotlib import pyplot as plt\n",
    "fig = plt.figure()\n",
    "ax = fig.add_subplot(111)\n",
    "fci_df['op_area'].plot(kind='kde', ax=ax,color='red')\n",
    "lines, labels = ax.get_legend_handles_labels()\n",
    "ax.legend(lines, labels, loc='best')\n",
    "fig"
   ]
  },
  {
   "cell_type": "code",
   "execution_count": null,
   "metadata": {},
   "outputs": [],
   "source": [
    "#Majority of them are covering or operational in 2-6 KM"
   ]
  },
  {
   "cell_type": "code",
   "execution_count": 27,
   "metadata": {},
   "outputs": [
    {
     "data": {
      "image/png": "[encoded data removed]",
      "text/plain": [
       "<Figure size 360x360 with 1 Axes>"
      ]
     },
     "metadata": {},
     "output_type": "display_data"
    }
   ],
   "source": [
    "sns.catplot(x = 'center_type', y = 'op_area', data=fci_df)\n",
    "plt.show()"
   ]
  },
  {
   "cell_type": "code",
   "execution_count": 35,
   "metadata": {},
   "outputs": [
    {
     "data": {
      "text/plain": [
       "0     679_56\n",
       "1     590_56\n",
       "2     590_56\n",
       "3     648_34\n",
       "4     632_34\n",
       "5     553_77\n",
       "6     593_77\n",
       "7     693_34\n",
       "8     526_34\n",
       "9     562_77\n",
       "10    699_85\n",
       "11    699_85\n",
       "12    526_34\n",
       "13    478_77\n",
       "14    576_34\n",
       "15    526_34\n",
       "16    713_85\n",
       "17    654_56\n",
       "18    515_77\n",
       "19    647_56\n",
       "20    676_34\n",
       "21    698_23\n",
       "22    628_77\n",
       "23    526_34\n",
       "24    680_77\n",
       "25    620_77\n",
       "26    604_56\n",
       "27    647_56\n",
       "28    649_34\n",
       "29    596_71\n",
       "       ...  \n",
       "47    695_77\n",
       "48    602_34\n",
       "49    526_34\n",
       "50    522_56\n",
       "51    703_56\n",
       "52    526_34\n",
       "53    651_77\n",
       "54    638_56\n",
       "55    590_56\n",
       "56    590_56\n",
       "57    485_77\n",
       "58    685_56\n",
       "59    461_34\n",
       "60    702_35\n",
       "61    615_34\n",
       "62    590_56\n",
       "63    590_56\n",
       "64    614_85\n",
       "65    599_56\n",
       "66    579_56\n",
       "67    517_56\n",
       "68    609_93\n",
       "69    517_56\n",
       "70    658_34\n",
       "71    561_77\n",
       "72    590_56\n",
       "73    604_56\n",
       "74    614_85\n",
       "75    676_34\n",
       "76    638_56\n",
       "Name: region_code, Length: 77, dtype: object"
      ]
     },
     "execution_count": 35,
     "metadata": {},
     "output_type": "execute_result"
    }
   ],
   "source": [
    "fci_df['region_code'] = fci_df['city_code'].astype(str) + \"_\" + fci_df['region_code'].astype(str)\n",
    "fci_df['region_code']"
   ]
  },
  {
   "cell_type": "markdown",
   "metadata": {},
   "source": [
    "so in the one city there is not any centers which are in different regions.\n",
    "so maybe region code will not be helpful."
   ]
  },
  {
   "cell_type": "code",
   "execution_count": 36,
   "metadata": {},
   "outputs": [],
   "source": [
    "fci_df.drop('region_code', axis=1, inplace=True)"
   ]
  },
  {
   "cell_type": "markdown",
   "metadata": {},
   "source": [
    "### `meal_info`"
   ]
  },
  {
   "cell_type": "code",
   "execution_count": 37,
   "metadata": {},
   "outputs": [
    {
     "name": "stdout",
     "output_type": "stream",
     "text": [
      "Total number of different types of meal:  51\n"
     ]
    }
   ],
   "source": [
    "print(\"Total number of different types of meal: \", mi_df['meal_id'].nunique())"
   ]
  },
  {
   "cell_type": "code",
   "execution_count": 38,
   "metadata": {},
   "outputs": [
    {
     "data": {
      "image/png": "[encoded data removed]",
      "text/plain": [
       "<Figure size 432x288 with 1 Axes>"
      ]
     },
     "metadata": {},
     "output_type": "display_data"
    }
   ],
   "source": [
    "ax = sns.countplot(mi_df['category'])\n",
    "ax.set(ylabel= \"Number of Meals\")\n",
    "plt.xticks(rotation=80)\n",
    "plt.show()"
   ]
  },
  {
   "cell_type": "code",
   "execution_count": 39,
   "metadata": {},
   "outputs": [
    {
     "data": {
      "image/png": "[encoded data removed]",
      "text/plain": [
       "<Figure size 432x288 with 1 Axes>"
      ]
     },
     "metadata": {},
     "output_type": "display_data"
    }
   ],
   "source": [
    "ax = sns.countplot(mi_df['cuisine'])\n",
    "ax.set(ylabel= \"Number of Meals\")\n",
    "plt.show()"
   ]
  },
  {
   "cell_type": "code",
   "execution_count": 40,
   "metadata": {},
   "outputs": [
    {
     "data": {
      "image/png": "[encoded data removed]",
      "text/plain": [
       "<Figure size 360x576 with 1 Axes>"
      ]
     },
     "metadata": {},
     "output_type": "display_data"
    }
   ],
   "source": [
    "fig, ax = plt.subplots(figsize=(5,8))\n",
    "sns.countplot(y = mi_df['category'], hue=mi_df['cuisine'], ax=ax)\n",
    "plt.show()"
   ]
  },
  {
   "cell_type": "markdown",
   "metadata": {},
   "source": [
    "### `Train (historical meal order data)`"
   ]
  },
  {
   "cell_type": "code",
   "execution_count": 41,
   "metadata": {},
   "outputs": [],
   "source": [
    "train_df = pd.merge(train_df, fci_df, on='center_id')\n",
    "test_df = pd.merge(test_df, fci_df, on='center_id')\n",
    "\n",
    "train_df = pd.merge(train_df, mi_df, on='meal_id')\n",
    "test_df = pd.merge(test_df, mi_df, on='meal_id')"
   ]
  },
  {
   "cell_type": "code",
   "execution_count": 42,
   "metadata": {},
   "outputs": [
    {
     "data": {
      "text/html": [
       "<div>\n",
       "<style scoped>\n",
       "    .dataframe tbody tr th:only-of-type {\n",
       "        vertical-align: middle;\n",
       "    }\n",
       "\n",
       "    .dataframe tbody tr th {\n",
       "        vertical-align: top;\n",
       "    }\n",
       "\n",
       "    .dataframe thead th {\n",
       "        text-align: right;\n",
       "    }\n",
       "</style>\n",
       "<table border=\"1\" class=\"dataframe\">\n",
       "  <thead>\n",
       "    <tr style=\"text-align: right;\">\n",
       "      <th></th>\n",
       "      <th>id</th>\n",
       "      <th>week</th>\n",
       "      <th>center_id</th>\n",
       "      <th>meal_id</th>\n",
       "      <th>checkout_price</th>\n",
       "      <th>base_price</th>\n",
       "      <th>emailer_for_promotion</th>\n",
       "      <th>homepage_featured</th>\n",
       "      <th>num_orders</th>\n",
       "      <th>city_code</th>\n",
       "      <th>center_type</th>\n",
       "      <th>op_area</th>\n",
       "      <th>category</th>\n",
       "      <th>cuisine</th>\n",
       "    </tr>\n",
       "  </thead>\n",
       "  <tbody>\n",
       "    <tr>\n",
       "      <th>0</th>\n",
       "      <td>1379560</td>\n",
       "      <td>1</td>\n",
       "      <td>55</td>\n",
       "      <td>1885</td>\n",
       "      <td>136.83</td>\n",
       "      <td>152.29</td>\n",
       "      <td>0</td>\n",
       "      <td>0</td>\n",
       "      <td>177</td>\n",
       "      <td>647</td>\n",
       "      <td>TYPE_C</td>\n",
       "      <td>2.0</td>\n",
       "      <td>Beverages</td>\n",
       "      <td>Thai</td>\n",
       "    </tr>\n",
       "    <tr>\n",
       "      <th>1</th>\n",
       "      <td>1018704</td>\n",
       "      <td>2</td>\n",
       "      <td>55</td>\n",
       "      <td>1885</td>\n",
       "      <td>135.83</td>\n",
       "      <td>152.29</td>\n",
       "      <td>0</td>\n",
       "      <td>0</td>\n",
       "      <td>323</td>\n",
       "      <td>647</td>\n",
       "      <td>TYPE_C</td>\n",
       "      <td>2.0</td>\n",
       "      <td>Beverages</td>\n",
       "      <td>Thai</td>\n",
       "    </tr>\n",
       "    <tr>\n",
       "      <th>2</th>\n",
       "      <td>1196273</td>\n",
       "      <td>3</td>\n",
       "      <td>55</td>\n",
       "      <td>1885</td>\n",
       "      <td>132.92</td>\n",
       "      <td>133.92</td>\n",
       "      <td>0</td>\n",
       "      <td>0</td>\n",
       "      <td>96</td>\n",
       "      <td>647</td>\n",
       "      <td>TYPE_C</td>\n",
       "      <td>2.0</td>\n",
       "      <td>Beverages</td>\n",
       "      <td>Thai</td>\n",
       "    </tr>\n",
       "    <tr>\n",
       "      <th>3</th>\n",
       "      <td>1116527</td>\n",
       "      <td>4</td>\n",
       "      <td>55</td>\n",
       "      <td>1885</td>\n",
       "      <td>135.86</td>\n",
       "      <td>134.86</td>\n",
       "      <td>0</td>\n",
       "      <td>0</td>\n",
       "      <td>163</td>\n",
       "      <td>647</td>\n",
       "      <td>TYPE_C</td>\n",
       "      <td>2.0</td>\n",
       "      <td>Beverages</td>\n",
       "      <td>Thai</td>\n",
       "    </tr>\n",
       "    <tr>\n",
       "      <th>4</th>\n",
       "      <td>1343872</td>\n",
       "      <td>5</td>\n",
       "      <td>55</td>\n",
       "      <td>1885</td>\n",
       "      <td>146.50</td>\n",
       "      <td>147.50</td>\n",
       "      <td>0</td>\n",
       "      <td>0</td>\n",
       "      <td>215</td>\n",
       "      <td>647</td>\n",
       "      <td>TYPE_C</td>\n",
       "      <td>2.0</td>\n",
       "      <td>Beverages</td>\n",
       "      <td>Thai</td>\n",
       "    </tr>\n",
       "  </tbody>\n",
       "</table>\n",
       "</div>"
      ],
      "text/plain": [
       "        id  week  center_id  meal_id  checkout_price  base_price  \\\n",
       "0  1379560     1         55     1885          136.83      152.29   \n",
       "1  1018704     2         55     1885          135.83      152.29   \n",
       "2  1196273     3         55     1885          132.92      133.92   \n",
       "3  1116527     4         55     1885          135.86      134.86   \n",
       "4  1343872     5         55     1885          146.50      147.50   \n",
       "\n",
       "   emailer_for_promotion  homepage_featured  num_orders  city_code  \\\n",
       "0                      0                  0         177        647   \n",
       "1                      0                  0         323        647   \n",
       "2                      0                  0          96        647   \n",
       "3                      0                  0         163        647   \n",
       "4                      0                  0         215        647   \n",
       "\n",
       "  center_type  op_area   category cuisine  \n",
       "0      TYPE_C      2.0  Beverages    Thai  \n",
       "1      TYPE_C      2.0  Beverages    Thai  \n",
       "2      TYPE_C      2.0  Beverages    Thai  \n",
       "3      TYPE_C      2.0  Beverages    Thai  \n",
       "4      TYPE_C      2.0  Beverages    Thai  "
      ]
     },
     "execution_count": 42,
     "metadata": {},
     "output_type": "execute_result"
    }
   ],
   "source": [
    "train_df.head()"
   ]
  },
  {
   "cell_type": "code",
   "execution_count": 43,
   "metadata": {},
   "outputs": [],
   "source": [
    "train_df['b_c_p_diff'] = train_df['base_price'] - train_df['checkout_price']"
   ]
  },
  {
   "cell_type": "code",
   "execution_count": 44,
   "metadata": {},
   "outputs": [],
   "source": [
    "test_df['b_c_p_diff'] = test_df['base_price'] - test_df['checkout_price']"
   ]
  },
  {
   "cell_type": "code",
   "execution_count": null,
   "metadata": {},
   "outputs": [],
   "source": []
  },
  {
   "cell_type": "markdown",
   "metadata": {},
   "source": [
    "#### Catboost model1 : LB : 158"
   ]
  },
  {
   "cell_type": "code",
   "execution_count": 45,
   "metadata": {},
   "outputs": [
    {
     "data": {
      "text/html": [
       "<div>\n",
       "<style scoped>\n",
       "    .dataframe tbody tr th:only-of-type {\n",
       "        vertical-align: middle;\n",
       "    }\n",
       "\n",
       "    .dataframe tbody tr th {\n",
       "        vertical-align: top;\n",
       "    }\n",
       "\n",
       "    .dataframe thead th {\n",
       "        text-align: right;\n",
       "    }\n",
       "</style>\n",
       "<table border=\"1\" class=\"dataframe\">\n",
       "  <thead>\n",
       "    <tr style=\"text-align: right;\">\n",
       "      <th></th>\n",
       "      <th>id</th>\n",
       "      <th>week</th>\n",
       "      <th>center_id</th>\n",
       "      <th>meal_id</th>\n",
       "      <th>checkout_price</th>\n",
       "      <th>base_price</th>\n",
       "      <th>emailer_for_promotion</th>\n",
       "      <th>homepage_featured</th>\n",
       "      <th>city_code</th>\n",
       "      <th>center_type</th>\n",
       "      <th>op_area</th>\n",
       "      <th>category</th>\n",
       "      <th>cuisine</th>\n",
       "      <th>b_c_p_diff</th>\n",
       "    </tr>\n",
       "  </thead>\n",
       "  <tbody>\n",
       "    <tr>\n",
       "      <th>0</th>\n",
       "      <td>1028232</td>\n",
       "      <td>146</td>\n",
       "      <td>55</td>\n",
       "      <td>1885</td>\n",
       "      <td>158.11</td>\n",
       "      <td>159.11</td>\n",
       "      <td>0</td>\n",
       "      <td>0</td>\n",
       "      <td>647</td>\n",
       "      <td>TYPE_C</td>\n",
       "      <td>2.0</td>\n",
       "      <td>Beverages</td>\n",
       "      <td>Thai</td>\n",
       "      <td>1.0</td>\n",
       "    </tr>\n",
       "    <tr>\n",
       "      <th>1</th>\n",
       "      <td>1262649</td>\n",
       "      <td>147</td>\n",
       "      <td>55</td>\n",
       "      <td>1885</td>\n",
       "      <td>159.11</td>\n",
       "      <td>159.11</td>\n",
       "      <td>0</td>\n",
       "      <td>0</td>\n",
       "      <td>647</td>\n",
       "      <td>TYPE_C</td>\n",
       "      <td>2.0</td>\n",
       "      <td>Beverages</td>\n",
       "      <td>Thai</td>\n",
       "      <td>0.0</td>\n",
       "    </tr>\n",
       "    <tr>\n",
       "      <th>2</th>\n",
       "      <td>1453211</td>\n",
       "      <td>149</td>\n",
       "      <td>55</td>\n",
       "      <td>1885</td>\n",
       "      <td>157.14</td>\n",
       "      <td>158.14</td>\n",
       "      <td>0</td>\n",
       "      <td>0</td>\n",
       "      <td>647</td>\n",
       "      <td>TYPE_C</td>\n",
       "      <td>2.0</td>\n",
       "      <td>Beverages</td>\n",
       "      <td>Thai</td>\n",
       "      <td>1.0</td>\n",
       "    </tr>\n",
       "    <tr>\n",
       "      <th>3</th>\n",
       "      <td>1262599</td>\n",
       "      <td>150</td>\n",
       "      <td>55</td>\n",
       "      <td>1885</td>\n",
       "      <td>159.14</td>\n",
       "      <td>157.14</td>\n",
       "      <td>0</td>\n",
       "      <td>0</td>\n",
       "      <td>647</td>\n",
       "      <td>TYPE_C</td>\n",
       "      <td>2.0</td>\n",
       "      <td>Beverages</td>\n",
       "      <td>Thai</td>\n",
       "      <td>-2.0</td>\n",
       "    </tr>\n",
       "    <tr>\n",
       "      <th>4</th>\n",
       "      <td>1495848</td>\n",
       "      <td>151</td>\n",
       "      <td>55</td>\n",
       "      <td>1885</td>\n",
       "      <td>160.11</td>\n",
       "      <td>159.11</td>\n",
       "      <td>0</td>\n",
       "      <td>0</td>\n",
       "      <td>647</td>\n",
       "      <td>TYPE_C</td>\n",
       "      <td>2.0</td>\n",
       "      <td>Beverages</td>\n",
       "      <td>Thai</td>\n",
       "      <td>-1.0</td>\n",
       "    </tr>\n",
       "  </tbody>\n",
       "</table>\n",
       "</div>"
      ],
      "text/plain": [
       "        id  week  center_id  meal_id  checkout_price  base_price  \\\n",
       "0  1028232   146         55     1885          158.11      159.11   \n",
       "1  1262649   147         55     1885          159.11      159.11   \n",
       "2  1453211   149         55     1885          157.14      158.14   \n",
       "3  1262599   150         55     1885          159.14      157.14   \n",
       "4  1495848   151         55     1885          160.11      159.11   \n",
       "\n",
       "   emailer_for_promotion  homepage_featured  city_code center_type  op_area  \\\n",
       "0                      0                  0        647      TYPE_C      2.0   \n",
       "1                      0                  0        647      TYPE_C      2.0   \n",
       "2                      0                  0        647      TYPE_C      2.0   \n",
       "3                      0                  0        647      TYPE_C      2.0   \n",
       "4                      0                  0        647      TYPE_C      2.0   \n",
       "\n",
       "    category cuisine  b_c_p_diff  \n",
       "0  Beverages    Thai         1.0  \n",
       "1  Beverages    Thai         0.0  \n",
       "2  Beverages    Thai         1.0  \n",
       "3  Beverages    Thai        -2.0  \n",
       "4  Beverages    Thai        -1.0  "
      ]
     },
     "execution_count": 45,
     "metadata": {},
     "output_type": "execute_result"
    }
   ],
   "source": [
    "test_df.head()"
   ]
  },
  {
   "cell_type": "code",
   "execution_count": 46,
   "metadata": {},
   "outputs": [],
   "source": [
    "features0 = [col for col in test_df.columns if col not in ['id']]"
   ]
  },
  {
   "cell_type": "code",
   "execution_count": 47,
   "metadata": {},
   "outputs": [
    {
     "data": {
      "text/plain": [
       "['week',\n",
       " 'center_id',\n",
       " 'meal_id',\n",
       " 'checkout_price',\n",
       " 'base_price',\n",
       " 'emailer_for_promotion',\n",
       " 'homepage_featured',\n",
       " 'city_code',\n",
       " 'center_type',\n",
       " 'op_area',\n",
       " 'category',\n",
       " 'cuisine',\n",
       " 'b_c_p_diff']"
      ]
     },
     "execution_count": 47,
     "metadata": {},
     "output_type": "execute_result"
    }
   ],
   "source": [
    "features0"
   ]
  },
  {
   "cell_type": "markdown",
   "metadata": {},
   "source": [
    "### Further analysis on entire data and feature engineering"
   ]
  },
  {
   "cell_type": "code",
   "execution_count": 62,
   "metadata": {},
   "outputs": [],
   "source": [
    "all_df = train_df.append(test_df, sort=True).reset_index(drop=True)\n",
    "all_df = all_df[train_df.columns]"
   ]
  },
  {
   "cell_type": "code",
   "execution_count": 63,
   "metadata": {},
   "outputs": [],
   "source": [
    "all_df = all_df.sort_values(['center_id', 'meal_id', 'week']).reset_index(drop=True)"
   ]
  },
  {
   "cell_type": "code",
   "execution_count": 64,
   "metadata": {},
   "outputs": [],
   "source": [
    "all_df['last_pre_cp_diff'] = all_df['checkout_price'].shift(1) - all_df['checkout_price']"
   ]
  },
  {
   "cell_type": "code",
   "execution_count": 65,
   "metadata": {},
   "outputs": [
    {
     "data": {
      "text/html": [
       "<div>\n",
       "<style scoped>\n",
       "    .dataframe tbody tr th:only-of-type {\n",
       "        vertical-align: middle;\n",
       "    }\n",
       "\n",
       "    .dataframe tbody tr th {\n",
       "        vertical-align: top;\n",
       "    }\n",
       "\n",
       "    .dataframe thead th {\n",
       "        text-align: right;\n",
       "    }\n",
       "</style>\n",
       "<table border=\"1\" class=\"dataframe\">\n",
       "  <thead>\n",
       "    <tr style=\"text-align: right;\">\n",
       "      <th></th>\n",
       "      <th>id</th>\n",
       "      <th>week</th>\n",
       "      <th>center_id</th>\n",
       "      <th>meal_id</th>\n",
       "      <th>checkout_price</th>\n",
       "      <th>base_price</th>\n",
       "      <th>emailer_for_promotion</th>\n",
       "      <th>homepage_featured</th>\n",
       "      <th>num_orders</th>\n",
       "      <th>city_code</th>\n",
       "      <th>center_type</th>\n",
       "      <th>op_area</th>\n",
       "      <th>category</th>\n",
       "      <th>cuisine</th>\n",
       "      <th>b_c_p_diff</th>\n",
       "      <th>last_pre_cp_diff</th>\n",
       "    </tr>\n",
       "  </thead>\n",
       "  <tbody>\n",
       "    <tr>\n",
       "      <th>0</th>\n",
       "      <td>1436842</td>\n",
       "      <td>1</td>\n",
       "      <td>10</td>\n",
       "      <td>1062</td>\n",
       "      <td>181.39</td>\n",
       "      <td>181.39</td>\n",
       "      <td>0</td>\n",
       "      <td>0</td>\n",
       "      <td>865.0</td>\n",
       "      <td>590</td>\n",
       "      <td>TYPE_B</td>\n",
       "      <td>6.3</td>\n",
       "      <td>Beverages</td>\n",
       "      <td>Italian</td>\n",
       "      <td>0.0</td>\n",
       "      <td>NaN</td>\n",
       "    </tr>\n",
       "    <tr>\n",
       "      <th>1</th>\n",
       "      <td>1205013</td>\n",
       "      <td>2</td>\n",
       "      <td>10</td>\n",
       "      <td>1062</td>\n",
       "      <td>183.36</td>\n",
       "      <td>182.36</td>\n",
       "      <td>0</td>\n",
       "      <td>0</td>\n",
       "      <td>782.0</td>\n",
       "      <td>590</td>\n",
       "      <td>TYPE_B</td>\n",
       "      <td>6.3</td>\n",
       "      <td>Beverages</td>\n",
       "      <td>Italian</td>\n",
       "      <td>-1.0</td>\n",
       "      <td>-1.97</td>\n",
       "    </tr>\n",
       "    <tr>\n",
       "      <th>2</th>\n",
       "      <td>1447751</td>\n",
       "      <td>3</td>\n",
       "      <td>10</td>\n",
       "      <td>1062</td>\n",
       "      <td>184.36</td>\n",
       "      <td>182.36</td>\n",
       "      <td>0</td>\n",
       "      <td>0</td>\n",
       "      <td>851.0</td>\n",
       "      <td>590</td>\n",
       "      <td>TYPE_B</td>\n",
       "      <td>6.3</td>\n",
       "      <td>Beverages</td>\n",
       "      <td>Italian</td>\n",
       "      <td>-2.0</td>\n",
       "      <td>-1.00</td>\n",
       "    </tr>\n",
       "    <tr>\n",
       "      <th>3</th>\n",
       "      <td>1014968</td>\n",
       "      <td>4</td>\n",
       "      <td>10</td>\n",
       "      <td>1062</td>\n",
       "      <td>182.36</td>\n",
       "      <td>183.36</td>\n",
       "      <td>0</td>\n",
       "      <td>0</td>\n",
       "      <td>1202.0</td>\n",
       "      <td>590</td>\n",
       "      <td>TYPE_B</td>\n",
       "      <td>6.3</td>\n",
       "      <td>Beverages</td>\n",
       "      <td>Italian</td>\n",
       "      <td>1.0</td>\n",
       "      <td>2.00</td>\n",
       "    </tr>\n",
       "    <tr>\n",
       "      <th>4</th>\n",
       "      <td>1003563</td>\n",
       "      <td>5</td>\n",
       "      <td>10</td>\n",
       "      <td>1062</td>\n",
       "      <td>183.39</td>\n",
       "      <td>181.39</td>\n",
       "      <td>0</td>\n",
       "      <td>0</td>\n",
       "      <td>958.0</td>\n",
       "      <td>590</td>\n",
       "      <td>TYPE_B</td>\n",
       "      <td>6.3</td>\n",
       "      <td>Beverages</td>\n",
       "      <td>Italian</td>\n",
       "      <td>-2.0</td>\n",
       "      <td>-1.03</td>\n",
       "    </tr>\n",
       "  </tbody>\n",
       "</table>\n",
       "</div>"
      ],
      "text/plain": [
       "        id  week  center_id  meal_id  checkout_price  base_price  \\\n",
       "0  1436842     1         10     1062          181.39      181.39   \n",
       "1  1205013     2         10     1062          183.36      182.36   \n",
       "2  1447751     3         10     1062          184.36      182.36   \n",
       "3  1014968     4         10     1062          182.36      183.36   \n",
       "4  1003563     5         10     1062          183.39      181.39   \n",
       "\n",
       "   emailer_for_promotion  homepage_featured  num_orders  city_code  \\\n",
       "0                      0                  0       865.0        590   \n",
       "1                      0                  0       782.0        590   \n",
       "2                      0                  0       851.0        590   \n",
       "3                      0                  0      1202.0        590   \n",
       "4                      0                  0       958.0        590   \n",
       "\n",
       "  center_type  op_area   category  cuisine  b_c_p_diff  last_pre_cp_diff  \n",
       "0      TYPE_B      6.3  Beverages  Italian         0.0               NaN  \n",
       "1      TYPE_B      6.3  Beverages  Italian        -1.0             -1.97  \n",
       "2      TYPE_B      6.3  Beverages  Italian        -2.0             -1.00  \n",
       "3      TYPE_B      6.3  Beverages  Italian         1.0              2.00  \n",
       "4      TYPE_B      6.3  Beverages  Italian        -2.0             -1.03  "
      ]
     },
     "execution_count": 65,
     "metadata": {},
     "output_type": "execute_result"
    }
   ],
   "source": [
    "all_df.head()"
   ]
  },
  {
   "cell_type": "code",
   "execution_count": 66,
   "metadata": {},
   "outputs": [],
   "source": [
    "for _, r in all_df.groupby(['center_id', 'meal_id'])['week'].first().reset_index().iterrows():\n",
    "    all_df.loc[(all_df['center_id']==r['center_id']) & (all_df['meal_id']==r['meal_id']) & (all_df['week']==r['week']), 'last_pre_cp_diff'] = all_df[(all_df['center_id']==r['center_id']) & (all_df['meal_id']==r['meal_id']) & (all_df['week']!=r['week'])]['last_pre_cp_diff'].mean()"
   ]
  },
  {
   "cell_type": "code",
   "execution_count": 67,
   "metadata": {},
   "outputs": [],
   "source": [
    "all_df['price_increase'] = all_df['last_pre_cp_diff'] < 0"
   ]
  },
  {
   "cell_type": "code",
   "execution_count": 68,
   "metadata": {},
   "outputs": [],
   "source": [
    "all_df['high_price_che_than_base'] = all_df['b_c_p_diff'] < 0"
   ]
  },
  {
   "cell_type": "code",
   "execution_count": 69,
   "metadata": {},
   "outputs": [
    {
     "data": {
      "text/html": [
       "<div>\n",
       "<style scoped>\n",
       "    .dataframe tbody tr th:only-of-type {\n",
       "        vertical-align: middle;\n",
       "    }\n",
       "\n",
       "    .dataframe tbody tr th {\n",
       "        vertical-align: top;\n",
       "    }\n",
       "\n",
       "    .dataframe thead th {\n",
       "        text-align: right;\n",
       "    }\n",
       "</style>\n",
       "<table border=\"1\" class=\"dataframe\">\n",
       "  <thead>\n",
       "    <tr style=\"text-align: right;\">\n",
       "      <th></th>\n",
       "      <th>id</th>\n",
       "      <th>week</th>\n",
       "      <th>center_id</th>\n",
       "      <th>meal_id</th>\n",
       "      <th>checkout_price</th>\n",
       "      <th>base_price</th>\n",
       "      <th>emailer_for_promotion</th>\n",
       "      <th>homepage_featured</th>\n",
       "      <th>num_orders</th>\n",
       "      <th>city_code</th>\n",
       "      <th>center_type</th>\n",
       "      <th>op_area</th>\n",
       "      <th>category</th>\n",
       "      <th>cuisine</th>\n",
       "      <th>b_c_p_diff</th>\n",
       "      <th>last_pre_cp_diff</th>\n",
       "      <th>price_increase</th>\n",
       "      <th>high_price_che_than_base</th>\n",
       "    </tr>\n",
       "  </thead>\n",
       "  <tbody>\n",
       "    <tr>\n",
       "      <th>0</th>\n",
       "      <td>1436842</td>\n",
       "      <td>1</td>\n",
       "      <td>10</td>\n",
       "      <td>1062</td>\n",
       "      <td>181.39</td>\n",
       "      <td>181.39</td>\n",
       "      <td>0</td>\n",
       "      <td>0</td>\n",
       "      <td>865.0</td>\n",
       "      <td>590</td>\n",
       "      <td>TYPE_B</td>\n",
       "      <td>6.3</td>\n",
       "      <td>Beverages</td>\n",
       "      <td>Italian</td>\n",
       "      <td>0.0</td>\n",
       "      <td>0.125974</td>\n",
       "      <td>False</td>\n",
       "      <td>False</td>\n",
       "    </tr>\n",
       "    <tr>\n",
       "      <th>1</th>\n",
       "      <td>1205013</td>\n",
       "      <td>2</td>\n",
       "      <td>10</td>\n",
       "      <td>1062</td>\n",
       "      <td>183.36</td>\n",
       "      <td>182.36</td>\n",
       "      <td>0</td>\n",
       "      <td>0</td>\n",
       "      <td>782.0</td>\n",
       "      <td>590</td>\n",
       "      <td>TYPE_B</td>\n",
       "      <td>6.3</td>\n",
       "      <td>Beverages</td>\n",
       "      <td>Italian</td>\n",
       "      <td>-1.0</td>\n",
       "      <td>-1.970000</td>\n",
       "      <td>True</td>\n",
       "      <td>True</td>\n",
       "    </tr>\n",
       "    <tr>\n",
       "      <th>2</th>\n",
       "      <td>1447751</td>\n",
       "      <td>3</td>\n",
       "      <td>10</td>\n",
       "      <td>1062</td>\n",
       "      <td>184.36</td>\n",
       "      <td>182.36</td>\n",
       "      <td>0</td>\n",
       "      <td>0</td>\n",
       "      <td>851.0</td>\n",
       "      <td>590</td>\n",
       "      <td>TYPE_B</td>\n",
       "      <td>6.3</td>\n",
       "      <td>Beverages</td>\n",
       "      <td>Italian</td>\n",
       "      <td>-2.0</td>\n",
       "      <td>-1.000000</td>\n",
       "      <td>True</td>\n",
       "      <td>True</td>\n",
       "    </tr>\n",
       "    <tr>\n",
       "      <th>3</th>\n",
       "      <td>1014968</td>\n",
       "      <td>4</td>\n",
       "      <td>10</td>\n",
       "      <td>1062</td>\n",
       "      <td>182.36</td>\n",
       "      <td>183.36</td>\n",
       "      <td>0</td>\n",
       "      <td>0</td>\n",
       "      <td>1202.0</td>\n",
       "      <td>590</td>\n",
       "      <td>TYPE_B</td>\n",
       "      <td>6.3</td>\n",
       "      <td>Beverages</td>\n",
       "      <td>Italian</td>\n",
       "      <td>1.0</td>\n",
       "      <td>2.000000</td>\n",
       "      <td>False</td>\n",
       "      <td>False</td>\n",
       "    </tr>\n",
       "    <tr>\n",
       "      <th>4</th>\n",
       "      <td>1003563</td>\n",
       "      <td>5</td>\n",
       "      <td>10</td>\n",
       "      <td>1062</td>\n",
       "      <td>183.39</td>\n",
       "      <td>181.39</td>\n",
       "      <td>0</td>\n",
       "      <td>0</td>\n",
       "      <td>958.0</td>\n",
       "      <td>590</td>\n",
       "      <td>TYPE_B</td>\n",
       "      <td>6.3</td>\n",
       "      <td>Beverages</td>\n",
       "      <td>Italian</td>\n",
       "      <td>-2.0</td>\n",
       "      <td>-1.030000</td>\n",
       "      <td>True</td>\n",
       "      <td>True</td>\n",
       "    </tr>\n",
       "  </tbody>\n",
       "</table>\n",
       "</div>"
      ],
      "text/plain": [
       "        id  week  center_id  meal_id  checkout_price  base_price  \\\n",
       "0  1436842     1         10     1062          181.39      181.39   \n",
       "1  1205013     2         10     1062          183.36      182.36   \n",
       "2  1447751     3         10     1062          184.36      182.36   \n",
       "3  1014968     4         10     1062          182.36      183.36   \n",
       "4  1003563     5         10     1062          183.39      181.39   \n",
       "\n",
       "   emailer_for_promotion  homepage_featured  num_orders  city_code  \\\n",
       "0                      0                  0       865.0        590   \n",
       "1                      0                  0       782.0        590   \n",
       "2                      0                  0       851.0        590   \n",
       "3                      0                  0      1202.0        590   \n",
       "4                      0                  0       958.0        590   \n",
       "\n",
       "  center_type  op_area   category  cuisine  b_c_p_diff  last_pre_cp_diff  \\\n",
       "0      TYPE_B      6.3  Beverages  Italian         0.0          0.125974   \n",
       "1      TYPE_B      6.3  Beverages  Italian        -1.0         -1.970000   \n",
       "2      TYPE_B      6.3  Beverages  Italian        -2.0         -1.000000   \n",
       "3      TYPE_B      6.3  Beverages  Italian         1.0          2.000000   \n",
       "4      TYPE_B      6.3  Beverages  Italian        -2.0         -1.030000   \n",
       "\n",
       "   price_increase  high_price_che_than_base  \n",
       "0           False                     False  \n",
       "1            True                      True  \n",
       "2            True                      True  \n",
       "3           False                     False  \n",
       "4            True                      True  "
      ]
     },
     "execution_count": 69,
     "metadata": {},
     "output_type": "execute_result"
    }
   ],
   "source": [
    "all_df.head()"
   ]
  },
  {
   "cell_type": "code",
   "execution_count": 70,
   "metadata": {},
   "outputs": [
    {
     "data": {
      "text/html": [
       "<div>\n",
       "<style scoped>\n",
       "    .dataframe tbody tr th:only-of-type {\n",
       "        vertical-align: middle;\n",
       "    }\n",
       "\n",
       "    .dataframe tbody tr th {\n",
       "        vertical-align: top;\n",
       "    }\n",
       "\n",
       "    .dataframe thead th {\n",
       "        text-align: right;\n",
       "    }\n",
       "</style>\n",
       "<table border=\"1\" class=\"dataframe\">\n",
       "  <thead>\n",
       "    <tr style=\"text-align: right;\">\n",
       "      <th></th>\n",
       "      <th>id</th>\n",
       "      <th>week</th>\n",
       "      <th>center_id</th>\n",
       "      <th>meal_id</th>\n",
       "      <th>checkout_price</th>\n",
       "      <th>base_price</th>\n",
       "      <th>emailer_for_promotion</th>\n",
       "      <th>homepage_featured</th>\n",
       "      <th>num_orders</th>\n",
       "      <th>city_code</th>\n",
       "      <th>center_type</th>\n",
       "      <th>op_area</th>\n",
       "      <th>category</th>\n",
       "      <th>cuisine</th>\n",
       "      <th>b_c_p_diff</th>\n",
       "      <th>last_pre_cp_diff</th>\n",
       "      <th>price_increase</th>\n",
       "      <th>high_price_che_than_base</th>\n",
       "    </tr>\n",
       "  </thead>\n",
       "  <tbody>\n",
       "    <tr>\n",
       "      <th>326977</th>\n",
       "      <td>1067161</td>\n",
       "      <td>85</td>\n",
       "      <td>101</td>\n",
       "      <td>1571</td>\n",
       "      <td>581.03</td>\n",
       "      <td>583.03</td>\n",
       "      <td>0</td>\n",
       "      <td>0</td>\n",
       "      <td>14.0</td>\n",
       "      <td>699</td>\n",
       "      <td>TYPE_C</td>\n",
       "      <td>2.8</td>\n",
       "      <td>Fish</td>\n",
       "      <td>Continental</td>\n",
       "      <td>2.0</td>\n",
       "      <td>NaN</td>\n",
       "      <td>False</td>\n",
       "      <td>False</td>\n",
       "    </tr>\n",
       "    <tr>\n",
       "      <th>423333</th>\n",
       "      <td>1488069</td>\n",
       "      <td>134</td>\n",
       "      <td>145</td>\n",
       "      <td>1571</td>\n",
       "      <td>602.43</td>\n",
       "      <td>601.43</td>\n",
       "      <td>0</td>\n",
       "      <td>0</td>\n",
       "      <td>42.0</td>\n",
       "      <td>620</td>\n",
       "      <td>TYPE_A</td>\n",
       "      <td>3.9</td>\n",
       "      <td>Fish</td>\n",
       "      <td>Continental</td>\n",
       "      <td>-1.0</td>\n",
       "      <td>NaN</td>\n",
       "      <td>False</td>\n",
       "      <td>True</td>\n",
       "    </tr>\n",
       "    <tr>\n",
       "      <th>424809</th>\n",
       "      <td>1408899</td>\n",
       "      <td>131</td>\n",
       "      <td>145</td>\n",
       "      <td>2104</td>\n",
       "      <td>437.53</td>\n",
       "      <td>435.53</td>\n",
       "      <td>0</td>\n",
       "      <td>0</td>\n",
       "      <td>68.0</td>\n",
       "      <td>620</td>\n",
       "      <td>TYPE_A</td>\n",
       "      <td>3.9</td>\n",
       "      <td>Fish</td>\n",
       "      <td>Continental</td>\n",
       "      <td>-2.0</td>\n",
       "      <td>NaN</td>\n",
       "      <td>False</td>\n",
       "      <td>True</td>\n",
       "    </tr>\n",
       "  </tbody>\n",
       "</table>\n",
       "</div>"
      ],
      "text/plain": [
       "             id  week  center_id  meal_id  checkout_price  base_price  \\\n",
       "326977  1067161    85        101     1571          581.03      583.03   \n",
       "423333  1488069   134        145     1571          602.43      601.43   \n",
       "424809  1408899   131        145     2104          437.53      435.53   \n",
       "\n",
       "        emailer_for_promotion  homepage_featured  num_orders  city_code  \\\n",
       "326977                      0                  0        14.0        699   \n",
       "423333                      0                  0        42.0        620   \n",
       "424809                      0                  0        68.0        620   \n",
       "\n",
       "       center_type  op_area category      cuisine  b_c_p_diff  \\\n",
       "326977      TYPE_C      2.8     Fish  Continental         2.0   \n",
       "423333      TYPE_A      3.9     Fish  Continental        -1.0   \n",
       "424809      TYPE_A      3.9     Fish  Continental        -2.0   \n",
       "\n",
       "        last_pre_cp_diff  price_increase  high_price_che_than_base  \n",
       "326977               NaN           False                     False  \n",
       "423333               NaN           False                      True  \n",
       "424809               NaN           False                      True  "
      ]
     },
     "execution_count": 70,
     "metadata": {},
     "output_type": "execute_result"
    }
   ],
   "source": [
    "all_df[all_df['last_pre_cp_diff'].isnull()]"
   ]
  },
  {
   "cell_type": "markdown",
   "metadata": {},
   "source": [
    "Here we have some center-meal pair which has only occurred once, that's why we have NaN value for last_pre_cp_diff column for these 3 records. Let's put 0 for this."
   ]
  },
  {
   "cell_type": "code",
   "execution_count": 71,
   "metadata": {},
   "outputs": [],
   "source": [
    "all_df['last_pre_cp_diff'] = all_df['last_pre_cp_diff'].fillna(0)"
   ]
  },
  {
   "cell_type": "code",
   "execution_count": 72,
   "metadata": {},
   "outputs": [
    {
     "name": "stderr",
     "output_type": "stream",
     "text": [
      "C:\\Users\\nirav.gandhi\\AppData\\Local\\Continuum\\anaconda3\\lib\\site-packages\\scipy\\stats\\stats.py:1713: FutureWarning: Using a non-tuple sequence for multidimensional indexing is deprecated; use `arr[tuple(seq)]` instead of `arr[seq]`. In the future this will be interpreted as an array index, `arr[np.array(seq)]`, which will result either in an error or a different result.\n",
      "  return np.add.reduce(sorted[indexer] * weights, axis=axis) / sumval\n"
     ]
    },
    {
     "data": {
      "image/png": "[encoded data removed]",
      "text/plain": [
       "<Figure size 432x288 with 1 Axes>"
      ]
     },
     "metadata": {},
     "output_type": "display_data"
    }
   ],
   "source": [
    "sns.distplot(all_df['num_orders'].dropna(), bins=500)\n",
    "plt.show()"
   ]
  },
  {
   "cell_type": "markdown",
   "metadata": {},
   "source": [
    "Target variable is highly skewd, so it's better if we use log of it for prediction."
   ]
  },
  {
   "cell_type": "code",
   "execution_count": 73,
   "metadata": {},
   "outputs": [
    {
     "name": "stderr",
     "output_type": "stream",
     "text": [
      "C:\\Users\\nirav.gandhi\\AppData\\Local\\Continuum\\anaconda3\\lib\\site-packages\\scipy\\stats\\stats.py:1713: FutureWarning: Using a non-tuple sequence for multidimensional indexing is deprecated; use `arr[tuple(seq)]` instead of `arr[seq]`. In the future this will be interpreted as an array index, `arr[np.array(seq)]`, which will result either in an error or a different result.\n",
      "  return np.add.reduce(sorted[indexer] * weights, axis=axis) / sumval\n"
     ]
    },
    {
     "data": {
      "image/png": "[encoded data removed]",
      "text/plain": [
       "<Figure size 432x288 with 1 Axes>"
      ]
     },
     "metadata": {},
     "output_type": "display_data"
    }
   ],
   "source": [
    "sns.distplot(np.log(all_df['num_orders'].dropna()), bins=500)\n",
    "plt.show()"
   ]
  },
  {
   "cell_type": "code",
   "execution_count": 74,
   "metadata": {},
   "outputs": [
    {
     "name": "stderr",
     "output_type": "stream",
     "text": [
      "C:\\Users\\nirav.gandhi\\AppData\\Local\\Continuum\\anaconda3\\lib\\site-packages\\scipy\\stats\\stats.py:1713: FutureWarning: Using a non-tuple sequence for multidimensional indexing is deprecated; use `arr[tuple(seq)]` instead of `arr[seq]`. In the future this will be interpreted as an array index, `arr[np.array(seq)]`, which will result either in an error or a different result.\n",
      "  return np.add.reduce(sorted[indexer] * weights, axis=axis) / sumval\n"
     ]
    },
    {
     "data": {
      "image/png": "[encoded data removed]",
      "text/plain": [
       "<Figure size 432x288 with 1 Axes>"
      ]
     },
     "metadata": {},
     "output_type": "display_data"
    }
   ],
   "source": [
    "sns.distplot(all_df['checkout_price'], bins=500)\n",
    "plt.show()"
   ]
  },
  {
   "cell_type": "code",
   "execution_count": 75,
   "metadata": {},
   "outputs": [
    {
     "name": "stderr",
     "output_type": "stream",
     "text": [
      "C:\\Users\\nirav.gandhi\\AppData\\Local\\Continuum\\anaconda3\\lib\\site-packages\\scipy\\stats\\stats.py:1713: FutureWarning: Using a non-tuple sequence for multidimensional indexing is deprecated; use `arr[tuple(seq)]` instead of `arr[seq]`. In the future this will be interpreted as an array index, `arr[np.array(seq)]`, which will result either in an error or a different result.\n",
      "  return np.add.reduce(sorted[indexer] * weights, axis=axis) / sumval\n"
     ]
    },
    {
     "data": {
      "image/png": "[encoded data removed]",
      "text/plain": [
       "<Figure size 432x288 with 1 Axes>"
      ]
     },
     "metadata": {},
     "output_type": "display_data"
    }
   ],
   "source": [
    "sns.distplot(np.log(all_df['checkout_price']), bins=500)\n",
    "plt.show()"
   ]
  },
  {
   "cell_type": "code",
   "execution_count": 76,
   "metadata": {},
   "outputs": [
    {
     "name": "stderr",
     "output_type": "stream",
     "text": [
      "C:\\Users\\nirav.gandhi\\AppData\\Local\\Continuum\\anaconda3\\lib\\site-packages\\scipy\\stats\\stats.py:1713: FutureWarning: Using a non-tuple sequence for multidimensional indexing is deprecated; use `arr[tuple(seq)]` instead of `arr[seq]`. In the future this will be interpreted as an array index, `arr[np.array(seq)]`, which will result either in an error or a different result.\n",
      "  return np.add.reduce(sorted[indexer] * weights, axis=axis) / sumval\n"
     ]
    },
    {
     "data": {
      "image/png": "[encoded data removed]",
      "text/plain": [
       "<Figure size 432x288 with 1 Axes>"
      ]
     },
     "metadata": {},
     "output_type": "display_data"
    }
   ],
   "source": [
    "sns.distplot(all_df['base_price'], bins=500)\n",
    "plt.show()"
   ]
  },
  {
   "cell_type": "code",
   "execution_count": 77,
   "metadata": {},
   "outputs": [
    {
     "name": "stderr",
     "output_type": "stream",
     "text": [
      "C:\\Users\\nirav.gandhi\\AppData\\Local\\Continuum\\anaconda3\\lib\\site-packages\\scipy\\stats\\stats.py:1713: FutureWarning: Using a non-tuple sequence for multidimensional indexing is deprecated; use `arr[tuple(seq)]` instead of `arr[seq]`. In the future this will be interpreted as an array index, `arr[np.array(seq)]`, which will result either in an error or a different result.\n",
      "  return np.add.reduce(sorted[indexer] * weights, axis=axis) / sumval\n"
     ]
    },
    {
     "data": {
      "image/png": "[encoded data removed]",
      "text/plain": [
       "<Figure size 432x288 with 1 Axes>"
      ]
     },
     "metadata": {},
     "output_type": "display_data"
    }
   ],
   "source": [
    "sns.distplot(np.log(all_df['base_price']), bins=500)\n",
    "plt.show()"
   ]
  },
  {
   "cell_type": "code",
   "execution_count": 78,
   "metadata": {},
   "outputs": [
    {
     "name": "stderr",
     "output_type": "stream",
     "text": [
      "C:\\Users\\nirav.gandhi\\AppData\\Local\\Continuum\\anaconda3\\lib\\site-packages\\scipy\\stats\\stats.py:1713: FutureWarning: Using a non-tuple sequence for multidimensional indexing is deprecated; use `arr[tuple(seq)]` instead of `arr[seq]`. In the future this will be interpreted as an array index, `arr[np.array(seq)]`, which will result either in an error or a different result.\n",
      "  return np.add.reduce(sorted[indexer] * weights, axis=axis) / sumval\n"
     ]
    },
    {
     "data": {
      "image/png": "[encoded data removed]",
      "text/plain": [
       "<Figure size 432x288 with 1 Axes>"
      ]
     },
     "metadata": {},
     "output_type": "display_data"
    }
   ],
   "source": [
    "sns.distplot(all_df['last_pre_cp_diff'], bins=500)\n",
    "plt.show()"
   ]
  },
  {
   "cell_type": "code",
   "execution_count": 82,
   "metadata": {},
   "outputs": [],
   "source": [
    "all_df['discount_on_base'] = (all_df['base_price'] - all_df['checkout_price']) / all_df['base_price']"
   ]
  },
  {
   "cell_type": "code",
   "execution_count": 84,
   "metadata": {},
   "outputs": [
    {
     "data": {
      "text/html": [
       "<div>\n",
       "<style scoped>\n",
       "    .dataframe tbody tr th:only-of-type {\n",
       "        vertical-align: middle;\n",
       "    }\n",
       "\n",
       "    .dataframe tbody tr th {\n",
       "        vertical-align: top;\n",
       "    }\n",
       "\n",
       "    .dataframe thead th {\n",
       "        text-align: right;\n",
       "    }\n",
       "</style>\n",
       "<table border=\"1\" class=\"dataframe\">\n",
       "  <thead>\n",
       "    <tr style=\"text-align: right;\">\n",
       "      <th></th>\n",
       "      <th>id</th>\n",
       "      <th>week</th>\n",
       "      <th>center_id</th>\n",
       "      <th>meal_id</th>\n",
       "      <th>checkout_price</th>\n",
       "      <th>base_price</th>\n",
       "      <th>emailer_for_promotion</th>\n",
       "      <th>homepage_featured</th>\n",
       "      <th>num_orders</th>\n",
       "      <th>city_code</th>\n",
       "      <th>center_type</th>\n",
       "      <th>op_area</th>\n",
       "      <th>category</th>\n",
       "      <th>cuisine</th>\n",
       "      <th>b_c_p_diff</th>\n",
       "      <th>last_pre_cp_diff</th>\n",
       "      <th>price_increase</th>\n",
       "      <th>high_price_che_than_base</th>\n",
       "      <th>discount_on_base</th>\n",
       "    </tr>\n",
       "  </thead>\n",
       "  <tbody>\n",
       "    <tr>\n",
       "      <th>0</th>\n",
       "      <td>1436842</td>\n",
       "      <td>1</td>\n",
       "      <td>10</td>\n",
       "      <td>1062</td>\n",
       "      <td>181.39</td>\n",
       "      <td>181.39</td>\n",
       "      <td>0</td>\n",
       "      <td>0</td>\n",
       "      <td>865.0</td>\n",
       "      <td>590</td>\n",
       "      <td>TYPE_B</td>\n",
       "      <td>6.3</td>\n",
       "      <td>Beverages</td>\n",
       "      <td>Italian</td>\n",
       "      <td>0.0</td>\n",
       "      <td>0.125974</td>\n",
       "      <td>False</td>\n",
       "      <td>False</td>\n",
       "      <td>0.000000</td>\n",
       "    </tr>\n",
       "    <tr>\n",
       "      <th>1</th>\n",
       "      <td>1205013</td>\n",
       "      <td>2</td>\n",
       "      <td>10</td>\n",
       "      <td>1062</td>\n",
       "      <td>183.36</td>\n",
       "      <td>182.36</td>\n",
       "      <td>0</td>\n",
       "      <td>0</td>\n",
       "      <td>782.0</td>\n",
       "      <td>590</td>\n",
       "      <td>TYPE_B</td>\n",
       "      <td>6.3</td>\n",
       "      <td>Beverages</td>\n",
       "      <td>Italian</td>\n",
       "      <td>-1.0</td>\n",
       "      <td>-1.970000</td>\n",
       "      <td>True</td>\n",
       "      <td>True</td>\n",
       "      <td>-0.005484</td>\n",
       "    </tr>\n",
       "    <tr>\n",
       "      <th>2</th>\n",
       "      <td>1447751</td>\n",
       "      <td>3</td>\n",
       "      <td>10</td>\n",
       "      <td>1062</td>\n",
       "      <td>184.36</td>\n",
       "      <td>182.36</td>\n",
       "      <td>0</td>\n",
       "      <td>0</td>\n",
       "      <td>851.0</td>\n",
       "      <td>590</td>\n",
       "      <td>TYPE_B</td>\n",
       "      <td>6.3</td>\n",
       "      <td>Beverages</td>\n",
       "      <td>Italian</td>\n",
       "      <td>-2.0</td>\n",
       "      <td>-1.000000</td>\n",
       "      <td>True</td>\n",
       "      <td>True</td>\n",
       "      <td>-0.010967</td>\n",
       "    </tr>\n",
       "    <tr>\n",
       "      <th>3</th>\n",
       "      <td>1014968</td>\n",
       "      <td>4</td>\n",
       "      <td>10</td>\n",
       "      <td>1062</td>\n",
       "      <td>182.36</td>\n",
       "      <td>183.36</td>\n",
       "      <td>0</td>\n",
       "      <td>0</td>\n",
       "      <td>1202.0</td>\n",
       "      <td>590</td>\n",
       "      <td>TYPE_B</td>\n",
       "      <td>6.3</td>\n",
       "      <td>Beverages</td>\n",
       "      <td>Italian</td>\n",
       "      <td>1.0</td>\n",
       "      <td>2.000000</td>\n",
       "      <td>False</td>\n",
       "      <td>False</td>\n",
       "      <td>0.005454</td>\n",
       "    </tr>\n",
       "    <tr>\n",
       "      <th>4</th>\n",
       "      <td>1003563</td>\n",
       "      <td>5</td>\n",
       "      <td>10</td>\n",
       "      <td>1062</td>\n",
       "      <td>183.39</td>\n",
       "      <td>181.39</td>\n",
       "      <td>0</td>\n",
       "      <td>0</td>\n",
       "      <td>958.0</td>\n",
       "      <td>590</td>\n",
       "      <td>TYPE_B</td>\n",
       "      <td>6.3</td>\n",
       "      <td>Beverages</td>\n",
       "      <td>Italian</td>\n",
       "      <td>-2.0</td>\n",
       "      <td>-1.030000</td>\n",
       "      <td>True</td>\n",
       "      <td>True</td>\n",
       "      <td>-0.011026</td>\n",
       "    </tr>\n",
       "  </tbody>\n",
       "</table>\n",
       "</div>"
      ],
      "text/plain": [
       "        id  week  center_id  meal_id  checkout_price  base_price  \\\n",
       "0  1436842     1         10     1062          181.39      181.39   \n",
       "1  1205013     2         10     1062          183.36      182.36   \n",
       "2  1447751     3         10     1062          184.36      182.36   \n",
       "3  1014968     4         10     1062          182.36      183.36   \n",
       "4  1003563     5         10     1062          183.39      181.39   \n",
       "\n",
       "   emailer_for_promotion  homepage_featured  num_orders  city_code  \\\n",
       "0                      0                  0       865.0        590   \n",
       "1                      0                  0       782.0        590   \n",
       "2                      0                  0       851.0        590   \n",
       "3                      0                  0      1202.0        590   \n",
       "4                      0                  0       958.0        590   \n",
       "\n",
       "  center_type  op_area   category  cuisine  b_c_p_diff  last_pre_cp_diff  \\\n",
       "0      TYPE_B      6.3  Beverages  Italian         0.0          0.125974   \n",
       "1      TYPE_B      6.3  Beverages  Italian        -1.0         -1.970000   \n",
       "2      TYPE_B      6.3  Beverages  Italian        -2.0         -1.000000   \n",
       "3      TYPE_B      6.3  Beverages  Italian         1.0          2.000000   \n",
       "4      TYPE_B      6.3  Beverages  Italian        -2.0         -1.030000   \n",
       "\n",
       "   price_increase  high_price_che_than_base  discount_on_base  \n",
       "0           False                     False          0.000000  \n",
       "1            True                      True         -0.005484  \n",
       "2            True                      True         -0.010967  \n",
       "3           False                     False          0.005454  \n",
       "4            True                      True         -0.011026  "
      ]
     },
     "execution_count": 84,
     "metadata": {},
     "output_type": "execute_result"
    }
   ],
   "source": [
    "all_df.head()"
   ]
  },
  {
   "cell_type": "code",
   "execution_count": 13,
   "metadata": {},
   "outputs": [],
   "source": [
    "all_df['discount_on_base'] = (all_df['base_price'] - all_df['checkout_price']) / all_df['base_price']"
   ]
  },
  {
   "cell_type": "code",
   "execution_count": 85,
   "metadata": {},
   "outputs": [
    {
     "data": {
      "text/html": [
       "<div>\n",
       "<style scoped>\n",
       "    .dataframe tbody tr th:only-of-type {\n",
       "        vertical-align: middle;\n",
       "    }\n",
       "\n",
       "    .dataframe tbody tr th {\n",
       "        vertical-align: top;\n",
       "    }\n",
       "\n",
       "    .dataframe thead th {\n",
       "        text-align: right;\n",
       "    }\n",
       "</style>\n",
       "<table border=\"1\" class=\"dataframe\">\n",
       "  <thead>\n",
       "    <tr style=\"text-align: right;\">\n",
       "      <th></th>\n",
       "      <th>id</th>\n",
       "      <th>week</th>\n",
       "      <th>center_id</th>\n",
       "      <th>meal_id</th>\n",
       "      <th>checkout_price</th>\n",
       "      <th>base_price</th>\n",
       "      <th>emailer_for_promotion</th>\n",
       "      <th>homepage_featured</th>\n",
       "      <th>num_orders</th>\n",
       "      <th>city_code</th>\n",
       "      <th>center_type</th>\n",
       "      <th>op_area</th>\n",
       "      <th>category</th>\n",
       "      <th>cuisine</th>\n",
       "      <th>b_c_p_diff</th>\n",
       "      <th>last_pre_cp_diff</th>\n",
       "      <th>price_increase</th>\n",
       "      <th>high_price_che_than_base</th>\n",
       "      <th>discount_on_base</th>\n",
       "    </tr>\n",
       "  </thead>\n",
       "  <tbody>\n",
       "    <tr>\n",
       "      <th>0</th>\n",
       "      <td>1436842</td>\n",
       "      <td>1</td>\n",
       "      <td>10</td>\n",
       "      <td>1062</td>\n",
       "      <td>181.39</td>\n",
       "      <td>181.39</td>\n",
       "      <td>0</td>\n",
       "      <td>0</td>\n",
       "      <td>865.0</td>\n",
       "      <td>590</td>\n",
       "      <td>TYPE_B</td>\n",
       "      <td>6.3</td>\n",
       "      <td>Beverages</td>\n",
       "      <td>Italian</td>\n",
       "      <td>0.0</td>\n",
       "      <td>0.125974</td>\n",
       "      <td>False</td>\n",
       "      <td>False</td>\n",
       "      <td>0.000000</td>\n",
       "    </tr>\n",
       "    <tr>\n",
       "      <th>1</th>\n",
       "      <td>1205013</td>\n",
       "      <td>2</td>\n",
       "      <td>10</td>\n",
       "      <td>1062</td>\n",
       "      <td>183.36</td>\n",
       "      <td>182.36</td>\n",
       "      <td>0</td>\n",
       "      <td>0</td>\n",
       "      <td>782.0</td>\n",
       "      <td>590</td>\n",
       "      <td>TYPE_B</td>\n",
       "      <td>6.3</td>\n",
       "      <td>Beverages</td>\n",
       "      <td>Italian</td>\n",
       "      <td>-1.0</td>\n",
       "      <td>-1.970000</td>\n",
       "      <td>True</td>\n",
       "      <td>True</td>\n",
       "      <td>-0.005484</td>\n",
       "    </tr>\n",
       "    <tr>\n",
       "      <th>2</th>\n",
       "      <td>1447751</td>\n",
       "      <td>3</td>\n",
       "      <td>10</td>\n",
       "      <td>1062</td>\n",
       "      <td>184.36</td>\n",
       "      <td>182.36</td>\n",
       "      <td>0</td>\n",
       "      <td>0</td>\n",
       "      <td>851.0</td>\n",
       "      <td>590</td>\n",
       "      <td>TYPE_B</td>\n",
       "      <td>6.3</td>\n",
       "      <td>Beverages</td>\n",
       "      <td>Italian</td>\n",
       "      <td>-2.0</td>\n",
       "      <td>-1.000000</td>\n",
       "      <td>True</td>\n",
       "      <td>True</td>\n",
       "      <td>-0.010967</td>\n",
       "    </tr>\n",
       "    <tr>\n",
       "      <th>3</th>\n",
       "      <td>1014968</td>\n",
       "      <td>4</td>\n",
       "      <td>10</td>\n",
       "      <td>1062</td>\n",
       "      <td>182.36</td>\n",
       "      <td>183.36</td>\n",
       "      <td>0</td>\n",
       "      <td>0</td>\n",
       "      <td>1202.0</td>\n",
       "      <td>590</td>\n",
       "      <td>TYPE_B</td>\n",
       "      <td>6.3</td>\n",
       "      <td>Beverages</td>\n",
       "      <td>Italian</td>\n",
       "      <td>1.0</td>\n",
       "      <td>2.000000</td>\n",
       "      <td>False</td>\n",
       "      <td>False</td>\n",
       "      <td>0.005454</td>\n",
       "    </tr>\n",
       "    <tr>\n",
       "      <th>4</th>\n",
       "      <td>1003563</td>\n",
       "      <td>5</td>\n",
       "      <td>10</td>\n",
       "      <td>1062</td>\n",
       "      <td>183.39</td>\n",
       "      <td>181.39</td>\n",
       "      <td>0</td>\n",
       "      <td>0</td>\n",
       "      <td>958.0</td>\n",
       "      <td>590</td>\n",
       "      <td>TYPE_B</td>\n",
       "      <td>6.3</td>\n",
       "      <td>Beverages</td>\n",
       "      <td>Italian</td>\n",
       "      <td>-2.0</td>\n",
       "      <td>-1.030000</td>\n",
       "      <td>True</td>\n",
       "      <td>True</td>\n",
       "      <td>-0.011026</td>\n",
       "    </tr>\n",
       "  </tbody>\n",
       "</table>\n",
       "</div>"
      ],
      "text/plain": [
       "        id  week  center_id  meal_id  checkout_price  base_price  \\\n",
       "0  1436842     1         10     1062          181.39      181.39   \n",
       "1  1205013     2         10     1062          183.36      182.36   \n",
       "2  1447751     3         10     1062          184.36      182.36   \n",
       "3  1014968     4         10     1062          182.36      183.36   \n",
       "4  1003563     5         10     1062          183.39      181.39   \n",
       "\n",
       "   emailer_for_promotion  homepage_featured  num_orders  city_code  \\\n",
       "0                      0                  0       865.0        590   \n",
       "1                      0                  0       782.0        590   \n",
       "2                      0                  0       851.0        590   \n",
       "3                      0                  0      1202.0        590   \n",
       "4                      0                  0       958.0        590   \n",
       "\n",
       "  center_type  op_area   category  cuisine  b_c_p_diff  last_pre_cp_diff  \\\n",
       "0      TYPE_B      6.3  Beverages  Italian         0.0          0.125974   \n",
       "1      TYPE_B      6.3  Beverages  Italian        -1.0         -1.970000   \n",
       "2      TYPE_B      6.3  Beverages  Italian        -2.0         -1.000000   \n",
       "3      TYPE_B      6.3  Beverages  Italian         1.0          2.000000   \n",
       "4      TYPE_B      6.3  Beverages  Italian        -2.0         -1.030000   \n",
       "\n",
       "   price_increase  high_price_che_than_base  discount_on_base  \n",
       "0           False                     False          0.000000  \n",
       "1            True                      True         -0.005484  \n",
       "2            True                      True         -0.010967  \n",
       "3           False                     False          0.005454  \n",
       "4            True                      True         -0.011026  "
      ]
     },
     "execution_count": 85,
     "metadata": {},
     "output_type": "execute_result"
    }
   ],
   "source": [
    "all_df.head()"
   ]
  },
  {
   "cell_type": "code",
   "execution_count": 86,
   "metadata": {},
   "outputs": [
    {
     "name": "stderr",
     "output_type": "stream",
     "text": [
      "C:\\Users\\nirav.gandhi\\AppData\\Local\\Continuum\\anaconda3\\lib\\site-packages\\scipy\\stats\\stats.py:1713: FutureWarning: Using a non-tuple sequence for multidimensional indexing is deprecated; use `arr[tuple(seq)]` instead of `arr[seq]`. In the future this will be interpreted as an array index, `arr[np.array(seq)]`, which will result either in an error or a different result.\n",
      "  return np.add.reduce(sorted[indexer] * weights, axis=axis) / sumval\n"
     ]
    },
    {
     "data": {
      "image/png": "[encoded data removed]",
      "text/plain": [
       "<Figure size 432x288 with 1 Axes>"
      ]
     },
     "metadata": {},
     "output_type": "display_data"
    }
   ],
   "source": [
    "sns.distplot(all_df['discount_on_base'], bins=500)\n",
    "plt.show()"
   ]
  },
  {
   "cell_type": "code",
   "execution_count": 87,
   "metadata": {},
   "outputs": [],
   "source": [
    "all_df['neg_discount'] = (all_df['discount_on_base'] < 0).astype(int)"
   ]
  },
  {
   "cell_type": "code",
   "execution_count": 88,
   "metadata": {},
   "outputs": [],
   "source": [
    "all_df['price_last_curr_diff'] = (all_df['checkout_price'].shift(1) - all_df['checkout_price']).fillna(1)/ all_df['checkout_price'].shift(1).fillna(1)"
   ]
  },
  {
   "cell_type": "code",
   "execution_count": 89,
   "metadata": {},
   "outputs": [],
   "source": [
    "for _, r in all_df.groupby(['center_id', 'meal_id'])['week'].first().reset_index().iterrows():\n",
    "    all_df.loc[(all_df['center_id']==r['center_id']) & (all_df['meal_id']==r['meal_id']) & (all_df['week']==r['week']), 'price_last_curr_diff'] = all_df[(all_df['center_id']==r['center_id']) & (all_df['meal_id']==r['meal_id']) & (all_df['week']!=r['week'])]['price_last_curr_diff'].mean()"
   ]
  },
  {
   "cell_type": "code",
   "execution_count": 90,
   "metadata": {},
   "outputs": [],
   "source": [
    "all_df['price_last_curr_diff'] = all_df['price_last_curr_diff'].fillna(0)"
   ]
  },
  {
   "cell_type": "code",
   "execution_count": 91,
   "metadata": {},
   "outputs": [],
   "source": [
    "all_df['price_increase'] = (all_df['price_last_curr_diff'] < 0).astype(int)"
   ]
  },
  {
   "cell_type": "code",
   "execution_count": 92,
   "metadata": {},
   "outputs": [],
   "source": [
    "all_df.loc[all_df['week'].isin(np.arange(136,146)), 'train_or_test'] = 'val'"
   ]
  },
  {
   "cell_type": "code",
   "execution_count": 93,
   "metadata": {},
   "outputs": [
    {
     "data": {
      "text/html": [
       "<div>\n",
       "<style scoped>\n",
       "    .dataframe tbody tr th:only-of-type {\n",
       "        vertical-align: middle;\n",
       "    }\n",
       "\n",
       "    .dataframe tbody tr th {\n",
       "        vertical-align: top;\n",
       "    }\n",
       "\n",
       "    .dataframe thead th {\n",
       "        text-align: right;\n",
       "    }\n",
       "</style>\n",
       "<table border=\"1\" class=\"dataframe\">\n",
       "  <thead>\n",
       "    <tr style=\"text-align: right;\">\n",
       "      <th></th>\n",
       "      <th>id</th>\n",
       "      <th>week</th>\n",
       "      <th>center_id</th>\n",
       "      <th>meal_id</th>\n",
       "      <th>checkout_price</th>\n",
       "      <th>base_price</th>\n",
       "      <th>emailer_for_promotion</th>\n",
       "      <th>homepage_featured</th>\n",
       "      <th>num_orders</th>\n",
       "      <th>city_code</th>\n",
       "      <th>...</th>\n",
       "      <th>category</th>\n",
       "      <th>cuisine</th>\n",
       "      <th>b_c_p_diff</th>\n",
       "      <th>last_pre_cp_diff</th>\n",
       "      <th>price_increase</th>\n",
       "      <th>high_price_che_than_base</th>\n",
       "      <th>discount_on_base</th>\n",
       "      <th>neg_discount</th>\n",
       "      <th>price_last_curr_diff</th>\n",
       "      <th>train_or_test</th>\n",
       "    </tr>\n",
       "  </thead>\n",
       "  <tbody>\n",
       "    <tr>\n",
       "      <th>0</th>\n",
       "      <td>1436842</td>\n",
       "      <td>1</td>\n",
       "      <td>10</td>\n",
       "      <td>1062</td>\n",
       "      <td>181.39</td>\n",
       "      <td>181.39</td>\n",
       "      <td>0</td>\n",
       "      <td>0</td>\n",
       "      <td>865.0</td>\n",
       "      <td>590</td>\n",
       "      <td>...</td>\n",
       "      <td>Beverages</td>\n",
       "      <td>Italian</td>\n",
       "      <td>0.0</td>\n",
       "      <td>0.125974</td>\n",
       "      <td>1</td>\n",
       "      <td>False</td>\n",
       "      <td>0.000000</td>\n",
       "      <td>0</td>\n",
       "      <td>-0.000748</td>\n",
       "      <td>NaN</td>\n",
       "    </tr>\n",
       "    <tr>\n",
       "      <th>1</th>\n",
       "      <td>1205013</td>\n",
       "      <td>2</td>\n",
       "      <td>10</td>\n",
       "      <td>1062</td>\n",
       "      <td>183.36</td>\n",
       "      <td>182.36</td>\n",
       "      <td>0</td>\n",
       "      <td>0</td>\n",
       "      <td>782.0</td>\n",
       "      <td>590</td>\n",
       "      <td>...</td>\n",
       "      <td>Beverages</td>\n",
       "      <td>Italian</td>\n",
       "      <td>-1.0</td>\n",
       "      <td>-1.970000</td>\n",
       "      <td>1</td>\n",
       "      <td>True</td>\n",
       "      <td>-0.005484</td>\n",
       "      <td>1</td>\n",
       "      <td>-0.010861</td>\n",
       "      <td>NaN</td>\n",
       "    </tr>\n",
       "    <tr>\n",
       "      <th>2</th>\n",
       "      <td>1447751</td>\n",
       "      <td>3</td>\n",
       "      <td>10</td>\n",
       "      <td>1062</td>\n",
       "      <td>184.36</td>\n",
       "      <td>182.36</td>\n",
       "      <td>0</td>\n",
       "      <td>0</td>\n",
       "      <td>851.0</td>\n",
       "      <td>590</td>\n",
       "      <td>...</td>\n",
       "      <td>Beverages</td>\n",
       "      <td>Italian</td>\n",
       "      <td>-2.0</td>\n",
       "      <td>-1.000000</td>\n",
       "      <td>1</td>\n",
       "      <td>True</td>\n",
       "      <td>-0.010967</td>\n",
       "      <td>1</td>\n",
       "      <td>-0.005454</td>\n",
       "      <td>NaN</td>\n",
       "    </tr>\n",
       "    <tr>\n",
       "      <th>3</th>\n",
       "      <td>1014968</td>\n",
       "      <td>4</td>\n",
       "      <td>10</td>\n",
       "      <td>1062</td>\n",
       "      <td>182.36</td>\n",
       "      <td>183.36</td>\n",
       "      <td>0</td>\n",
       "      <td>0</td>\n",
       "      <td>1202.0</td>\n",
       "      <td>590</td>\n",
       "      <td>...</td>\n",
       "      <td>Beverages</td>\n",
       "      <td>Italian</td>\n",
       "      <td>1.0</td>\n",
       "      <td>2.000000</td>\n",
       "      <td>0</td>\n",
       "      <td>False</td>\n",
       "      <td>0.005454</td>\n",
       "      <td>0</td>\n",
       "      <td>0.010848</td>\n",
       "      <td>NaN</td>\n",
       "    </tr>\n",
       "    <tr>\n",
       "      <th>4</th>\n",
       "      <td>1003563</td>\n",
       "      <td>5</td>\n",
       "      <td>10</td>\n",
       "      <td>1062</td>\n",
       "      <td>183.39</td>\n",
       "      <td>181.39</td>\n",
       "      <td>0</td>\n",
       "      <td>0</td>\n",
       "      <td>958.0</td>\n",
       "      <td>590</td>\n",
       "      <td>...</td>\n",
       "      <td>Beverages</td>\n",
       "      <td>Italian</td>\n",
       "      <td>-2.0</td>\n",
       "      <td>-1.030000</td>\n",
       "      <td>1</td>\n",
       "      <td>True</td>\n",
       "      <td>-0.011026</td>\n",
       "      <td>1</td>\n",
       "      <td>-0.005648</td>\n",
       "      <td>NaN</td>\n",
       "    </tr>\n",
       "  </tbody>\n",
       "</table>\n",
       "<p>5 rows × 22 columns</p>\n",
       "</div>"
      ],
      "text/plain": [
       "        id  week  center_id  meal_id  checkout_price  base_price  \\\n",
       "0  1436842     1         10     1062          181.39      181.39   \n",
       "1  1205013     2         10     1062          183.36      182.36   \n",
       "2  1447751     3         10     1062          184.36      182.36   \n",
       "3  1014968     4         10     1062          182.36      183.36   \n",
       "4  1003563     5         10     1062          183.39      181.39   \n",
       "\n",
       "   emailer_for_promotion  homepage_featured  num_orders  city_code  \\\n",
       "0                      0                  0       865.0        590   \n",
       "1                      0                  0       782.0        590   \n",
       "2                      0                  0       851.0        590   \n",
       "3                      0                  0      1202.0        590   \n",
       "4                      0                  0       958.0        590   \n",
       "\n",
       "       ...         category  cuisine b_c_p_diff last_pre_cp_diff  \\\n",
       "0      ...        Beverages  Italian        0.0         0.125974   \n",
       "1      ...        Beverages  Italian       -1.0        -1.970000   \n",
       "2      ...        Beverages  Italian       -2.0        -1.000000   \n",
       "3      ...        Beverages  Italian        1.0         2.000000   \n",
       "4      ...        Beverages  Italian       -2.0        -1.030000   \n",
       "\n",
       "   price_increase  high_price_che_than_base  discount_on_base  neg_discount  \\\n",
       "0               1                     False          0.000000             0   \n",
       "1               1                      True         -0.005484             1   \n",
       "2               1                      True         -0.010967             1   \n",
       "3               0                     False          0.005454             0   \n",
       "4               1                      True         -0.011026             1   \n",
       "\n",
       "   price_last_curr_diff  train_or_test  \n",
       "0             -0.000748            NaN  \n",
       "1             -0.010861            NaN  \n",
       "2             -0.005454            NaN  \n",
       "3              0.010848            NaN  \n",
       "4             -0.005648            NaN  \n",
       "\n",
       "[5 rows x 22 columns]"
      ]
     },
     "execution_count": 93,
     "metadata": {},
     "output_type": "execute_result"
    }
   ],
   "source": [
    "all_df.head()"
   ]
  },
  {
   "cell_type": "code",
   "execution_count": null,
   "metadata": {},
   "outputs": [],
   "source": []
  },
  {
   "cell_type": "code",
   "execution_count": null,
   "metadata": {},
   "outputs": [],
   "source": []
  }
 ],
 "metadata": {
  "kernelspec": {
   "display_name": "Python 3",
   "language": "python",
   "name": "python3"
  },
  "language_info": {
   "codemirror_mode": {
    "name": "ipython",
    "version": 3
   },
   "file_extension": ".py",
   "mimetype": "text/x-python",
   "name": "python",
   "nbconvert_exporter": "python",
   "pygments_lexer": "ipython3",
   "version": "3.6.5"
  }
 },
 "nbformat": 4,
 "nbformat_minor": 2
}
